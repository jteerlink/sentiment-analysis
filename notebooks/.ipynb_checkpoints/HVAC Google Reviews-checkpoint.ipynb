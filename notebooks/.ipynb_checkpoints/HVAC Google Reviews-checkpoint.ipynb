{
 "cells": [
  {
   "cell_type": "code",
   "execution_count": 1,
   "metadata": {},
   "outputs": [],
   "source": [
    "import pandas as pd\n",
    "import numpy as np\n",
    "import matplotlib.pyplot as plt\n",
    "import seaborn as sns\n",
    "from sqlalchemy import create_engine\n",
    "import urllib\n",
    "\n",
    "\n",
    "params = urllib.parse.quote_plus('DRIVER={SQL Server Native Client 10.0};Server=gmlsql2hou; DATABASE=invplannersapp;Trusted_Connection=yes;')\n",
    "engine = create_engine(\"mssql+pyodbc:///?odbc_connect=%s\" % params)\n"
   ]
  },
  {
   "cell_type": "code",
   "execution_count": 9,
   "metadata": {},
   "outputs": [
    {
     "name": "stdout",
     "output_type": "stream",
     "text": [
      "These are my params DRIVER%3D%7BSQL+Server+Native+Client+10.0%7D%3BServer%3Dgmlsql2hou%3B+DATABASE%3Dinvplannersapp%3BTrusted_Connection%3Dyes%3B\n"
     ]
    }
   ],
   "source": [
    "print(f'These are my params {params}')"
   ]
  },
  {
   "cell_type": "code",
   "execution_count": 2,
   "metadata": {},
   "outputs": [],
   "source": [
    "df = pd.read_sql(\"select top 100 * from invplannersapp.dbo.HVAC_Reviews\",con=engine)"
   ]
  },
  {
   "cell_type": "code",
   "execution_count": 5,
   "metadata": {},
   "outputs": [
    {
     "data": {
      "text/plain": [
       "\"ARS Charleston SC, are terrible with poor office customer service--Repairman came July 3rd --needed a new condenser coil on my Rheem 3 yr old 15 sear AC unit--had to order part. After a number of calls to see status of part I'm told no part till 8th, then 15th. finally called Corp Offices---Brittany Lee is my hero, she worked hard to get part and also had ARS bring me a portable Ac to help cool my 90-95 degree house. When the part couldn't be found she had a new unit put in @ minimal cost. She returned calls, keep me informed as things told place, and followed up, She is the only bright spot in this whole situation--Charleston ARC in my opinion is the pits\""
      ]
     },
     "execution_count": 5,
     "metadata": {},
     "output_type": "execute_result"
    }
   ],
   "source": [
    "df.ReviewText[0]"
   ]
  }
 ],
 "metadata": {
  "kernelspec": {
   "display_name": "Python 3",
   "language": "python",
   "name": "python3"
  },
  "language_info": {
   "codemirror_mode": {
    "name": "ipython",
    "version": 3
   },
   "file_extension": ".py",
   "mimetype": "text/x-python",
   "name": "python",
   "nbconvert_exporter": "python",
   "pygments_lexer": "ipython3",
   "version": "3.7.0"
  }
 },
 "nbformat": 4,
 "nbformat_minor": 2
}
